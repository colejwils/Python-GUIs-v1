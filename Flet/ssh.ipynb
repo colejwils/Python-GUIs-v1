{
 "cells": [
  {
   "cell_type": "code",
   "execution_count": null,
   "metadata": {},
   "outputs": [
    {
     "name": "stdout",
     "output_type": "stream",
     "text": [
      "An error occurred while connecting to example (10.110.1.75) on port 22: [Errno 8] nodename nor servname provided, or not known\n"
     ]
    }
   ],
   "source": [
    "import paramiko\n",
    "\n",
    "def test_ssh_connection(hostname, ip_address, port, username, password=None, key=None):\n",
    "    client = paramiko.SSHClient()\n",
    "    client.set_missing_host_key_policy(paramiko.AutoAddPolicy())\n",
    "    \n",
    "    try:\n",
    "        if key:\n",
    "            private_key = paramiko.RSAKey.from_private_key_file(key)\n",
    "            client.connect(hostname=hostname, port=port, username=username, pkey=private_key)\n",
    "        else:\n",
    "            client.connect(hostname=hostname, port=port, username=username, password=password)\n",
    "        \n",
    "        print(f\"SSH connection to {hostname} ({ip_address}) on port {port} successful!\")\n",
    "    except paramiko.AuthenticationException:\n",
    "        print(f\"Failed to authenticate to {hostname} ({ip_address}) on port {port}. Invalid credentials.\")\n",
    "    except paramiko.SSHException as e:\n",
    "        print(f\"SSH connection to {hostname} ({ip_address}) on port {port} failed: {str(e)}\")\n",
    "    except Exception as e:\n",
    "        print(f\"An error occurred while connecting to {hostname} ({ip_address}) on port {port}: {str(e)}\")\n",
    "    finally:\n",
    "        client.close()\n",
    "test_ssh_connection(hostname='10.110.1.75', ip_address='10.110.1.75', port='22', username='root', password='Vlabs123$$$')\n",
    "# test_ssh_connection(hostname='hostname', ip_address='10.110.1.75', port='22', username='root', password='Vlabs123$$$')"
   ]
  },
  {
   "cell_type": "code",
   "execution_count": null,
   "metadata": {},
   "outputs": [],
   "source": []
  }
 ],
 "metadata": {
  "kernelspec": {
   "display_name": ".venv",
   "language": "python",
   "name": "python3"
  },
  "language_info": {
   "codemirror_mode": {
    "name": "ipython",
    "version": 3
   },
   "file_extension": ".py",
   "mimetype": "text/x-python",
   "name": "python",
   "nbconvert_exporter": "python",
   "pygments_lexer": "ipython3",
   "version": "3.13.0"
  }
 },
 "nbformat": 4,
 "nbformat_minor": 2
}
